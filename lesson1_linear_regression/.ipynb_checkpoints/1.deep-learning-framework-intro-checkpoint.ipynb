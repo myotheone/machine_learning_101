{
 "cells": [
  {
   "cell_type": "markdown",
   "metadata": {},
   "source": [
    "# 深度学习框架\n",
    "![](../img/deep-learning-framework.png)"
   ]
  },
  {
   "cell_type": "markdown",
   "metadata": {},
   "source": [
    "# 动态图和静态图\n",
    "## 静态图\n",
    "Tensorflow以及PaddlePaddle等框架先定义计算图，会在后台解析和优化计算图。\n",
    "\n",
    "优点：优化空间更大，相对来说执行速度会更快\n",
    "\n",
    "缺点：调试困难，晦涩难懂。模型迭代周期较长\n",
    "\n",
    "```python\n",
    "import tensorflow as tf\n",
    "\n",
    "X = tf.placeholder(tf.float32, [None, 10])\n",
    "y = tf.placeholder(tf.float32, [10, 1])\n",
    "\n",
    "W = tf.Variable(tf.zeros([10, 1]))\n",
    "b = tf.Variable(tf.zeros([1,]))\n",
    "print W,b\n",
    "\n",
    "# def net(X, W, b):\n",
    "#     return tf.matmul(X, W) + b\n",
    "    \n",
    "# init = tf.global_variables_initializer()\n",
    "# sess = tf.Session()\n",
    "# sess.run(init)\n",
    "\n",
    "# for i in xrange(epochs):\n",
    "#     sess.run(net(X,W), feed_dict={X:x_data, y:y_data})\n",
    "```\n",
    "## 动态图\n",
    "MXNet、Torch、PyTorch支持run-on-fly，即在代码中定义动态定义计算图，所写即所得。\n",
    "\n",
    "```python\n",
    "from mxnet import ndarray as nd\n",
    "\n",
    "num_inputs = 2\n",
    "num_examples = 100\n",
    "\n",
    "true_w = [2, -3.4]\n",
    "true_b = 4.2\n",
    "\n",
    "X = nd.random_normal(shape=(num_examples, num_inputs))\n",
    "y = true_w[0] * X[:, 0] + true_w[1] * X[:, 1] + true_b\n",
    "y += .01 * nd.random_normal(shape=y.shape)\n",
    "print X, y\n",
    "```\n",
    "\n",
    "备注：tensorflow eager execution和paddlepaddle fluid也支持动态图模式，自行体验"
   ]
  },
  {
   "cell_type": "code",
   "execution_count": null,
   "metadata": {
    "collapsed": true
   },
   "outputs": [],
   "source": []
  }
 ],
 "metadata": {
  "kernelspec": {
   "display_name": "Python 2",
   "language": "python",
   "name": "python2"
  },
  "language_info": {
   "codemirror_mode": {
    "name": "ipython",
    "version": 2
   },
   "file_extension": ".py",
   "mimetype": "text/x-python",
   "name": "python",
   "nbconvert_exporter": "python",
   "pygments_lexer": "ipython2",
   "version": "2.7.13"
  }
 },
 "nbformat": 4,
 "nbformat_minor": 2
}
