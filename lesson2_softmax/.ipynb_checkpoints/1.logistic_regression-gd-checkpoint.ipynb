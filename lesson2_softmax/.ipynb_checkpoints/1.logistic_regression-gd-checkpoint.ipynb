{
 "cells": [
  {
   "cell_type": "code",
   "execution_count": 14,
   "metadata": {
    "collapsed": true
   },
   "outputs": [],
   "source": [
    "import numpy as np\n",
    "import random\n",
    "import matplotlib.pyplot as plt\n",
    "%matplotlib inline"
   ]
  },
  {
   "cell_type": "markdown",
   "metadata": {},
   "source": [
    "# 激活函数"
   ]
  },
  {
   "cell_type": "code",
   "execution_count": 15,
   "metadata": {
    "collapsed": true
   },
   "outputs": [],
   "source": [
    "def sigmoid(x):\n",
    "    return 1 / (1 + np.power(np.e, -1 * x))"
   ]
  },
  {
   "cell_type": "markdown",
   "metadata": {},
   "source": [
    "# 生成训练数据"
   ]
  },
  {
   "cell_type": "code",
   "execution_count": 16,
   "metadata": {},
   "outputs": [
    {
     "data": {
      "text/plain": [
       "[<matplotlib.lines.Line2D at 0x1097b1590>]"
      ]
     },
     "execution_count": 16,
     "metadata": {},
     "output_type": "execute_result"
    },
    {
     "data": {
      "image/png": "[encoded data removed]",
      "text/plain": [
       "<matplotlib.figure.Figure at 0x109541790>"
      ]
     },
     "metadata": {},
     "output_type": "display_data"
    }
   ],
   "source": [
    "num_trains = 10\n",
    "num_inputs = 2\n",
    "\n",
    "x = np.array([[-1,-1], [-2,-2], [-3,-3],[-4,-4], [-5, -5],[1,1], [2,2], [3,3],[4,4], [5, 5]])\n",
    "y_true = np.array([0,0,0,0,0,1,1,1,1,1]).reshape((10,1))\n",
    "\n",
    "plt.scatter(x[:5,0], x[:5,1], c='r')\n",
    "plt.scatter(x[5:,0], x[5:,1], c='b')\n",
    "plt.plot([-5,-4,-3,-2,-1,1,2,3,4,5], [5,4,3,2,1,-1,-2,-3,-4,-5], c='black')"
   ]
  },
  {
   "cell_type": "markdown",
   "metadata": {},
   "source": [
    "# 定义模型"
   ]
  },
  {
   "cell_type": "code",
   "execution_count": 17,
   "metadata": {
    "collapsed": true
   },
   "outputs": [],
   "source": [
    "def net(x, w):\n",
    "    return x.dot(w)"
   ]
  },
  {
   "cell_type": "markdown",
   "metadata": {},
   "source": [
    "# 定义梯度函数"
   ]
  },
  {
   "cell_type": "code",
   "execution_count": 18,
   "metadata": {
    "collapsed": true
   },
   "outputs": [],
   "source": [
    "def dw(y_pred, x, y, w):\n",
    "    return -(x.T.dot(y - y_pred)) / len(y)\n",
    "    pass"
   ]
  },
  {
   "cell_type": "markdown",
   "metadata": {},
   "source": [
    "# 定义交叉熵损失函数"
   ]
  },
  {
   "cell_type": "code",
   "execution_count": 19,
   "metadata": {
    "collapsed": true
   },
   "outputs": [],
   "source": [
    "def cross_entropy(y, y_pred):\n",
    "    return -np.sum(y * np.log(y_pred) + (1 - y) * np.log(1 - y_pred)) / len(y)"
   ]
  },
  {
   "cell_type": "markdown",
   "metadata": {},
   "source": [
    "# 模型训练"
   ]
  },
  {
   "cell_type": "code",
   "execution_count": 28,
   "metadata": {},
   "outputs": [
    {
     "name": "stdout",
     "output_type": "stream",
     "text": [
      "0.000972513280982\n",
      "trained w b is:\n",
      "[[ 3.01035171]\n",
      " [ 3.01035171]]\n",
      "[[  2.42208038e-03]\n",
      " [  5.89496036e-06]\n",
      " [  1.43128186e-08]\n",
      " [  3.47509673e-11]\n",
      " [  8.43739969e-14]\n",
      " [  9.97577920e-01]\n",
      " [  9.99994105e-01]\n",
      " [  9.99999986e-01]\n",
      " [  1.00000000e+00]\n",
      " [  1.00000000e+00]]\n",
      "[[0]\n",
      " [0]\n",
      " [0]\n",
      " [0]\n",
      " [0]\n",
      " [1]\n",
      " [1]\n",
      " [1]\n",
      " [1]\n",
      " [1]]\n"
     ]
    },
    {
     "data": {
      "image/png": "[encoded data removed]",
      "text/plain": [
       "<matplotlib.figure.Figure at 0x109dd1a50>"
      ]
     },
     "metadata": {},
     "output_type": "display_data"
    }
   ],
   "source": [
    "w = np.array([1, 1]).reshape((2, 1))\n",
    "\n",
    "num_epochs = 5000\n",
    "batch_size = 5\n",
    "lr = 0.1\n",
    "losses = []\n",
    "for i in xrange(num_epochs):\n",
    "    epoch_loss = 0\n",
    "    idx = range(num_trains)\n",
    "    random.shuffle(idx)\n",
    "    for index in xrange(0, num_trains, batch_size):\n",
    "        j = np.array(idx[index:min(index + batch_size, num_trains)])\n",
    "        x_batch = x[j,:]\n",
    "        #print x_batch.shape\n",
    "        y_batch = y_true[j]\n",
    "        y_pred = sigmoid(net(x_batch, w))\n",
    "        loss = cross_entropy(y_batch, y_pred)\n",
    "        epoch_loss += loss\n",
    "        #print loss\n",
    "        dw_batch = dw(y_pred, x_batch, y_batch, w)\n",
    "        #print dw_batch.shape\n",
    "        #print w.shape\n",
    "        w = w - lr * dw_batch\n",
    "    losses.append(epoch_loss)\n",
    "plt.plot(losses)\n",
    "print min(losses)\n",
    "print \"trained w b is:\"\n",
    "print w\n",
    "print sigmoid(net(x, w))[:10,:]\n",
    "print y_true[:10,:]"
   ]
  },
  {
   "cell_type": "code",
   "execution_count": null,
   "metadata": {
    "collapsed": true
   },
   "outputs": [],
   "source": []
  }
 ],
 "metadata": {
  "kernelspec": {
   "display_name": "Python 2",
   "language": "python",
   "name": "python2"
  },
  "language_info": {
   "codemirror_mode": {
    "name": "ipython",
    "version": 2
   },
   "file_extension": ".py",
   "mimetype": "text/x-python",
   "name": "python",
   "nbconvert_exporter": "python",
   "pygments_lexer": "ipython2",
   "version": "2.7.13"
  }
 },
 "nbformat": 4,
 "nbformat_minor": 2
}
