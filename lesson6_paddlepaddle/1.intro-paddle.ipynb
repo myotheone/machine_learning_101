{
 "cells": [
  {
   "cell_type": "markdown",
   "metadata": {},
   "source": [
    "# 导入paddle包"
   ]
  },
  {
   "cell_type": "code",
   "execution_count": 2,
   "metadata": {
    "collapsed": true
   },
   "outputs": [],
   "source": [
    "import os\n",
    "import paddle.v2 as paddle\n",
    "import paddle.v2.dataset.uci_housing as uci_housing"
   ]
  },
  {
   "cell_type": "code",
   "execution_count": 3,
   "metadata": {
    "collapsed": true
   },
   "outputs": [],
   "source": [
    "with_gpu = os.getenv('WITH_GPU', '0') != '0'"
   ]
  },
  {
   "cell_type": "markdown",
   "metadata": {},
   "source": [
    "# 初始化paddle"
   ]
  },
  {
   "cell_type": "code",
   "execution_count": 4,
   "metadata": {
    "collapsed": true
   },
   "outputs": [],
   "source": [
    "paddle.init(use_gpu=with_gpu, trainer_count=1)"
   ]
  },
  {
   "cell_type": "markdown",
   "metadata": {},
   "source": [
    "# 构造模型"
   ]
  },
  {
   "cell_type": "code",
   "execution_count": 5,
   "metadata": {},
   "outputs": [],
   "source": [
    "x = paddle.layer.data(name='x', type=paddle.data_type.dense_vector(13))\n",
    "y_predict = paddle.layer.fc(input=x, size=1, act=paddle.activation.Linear())\n",
    "y = paddle.layer.data(name='y', type=paddle.data_type.dense_vector(1))"
   ]
  },
  {
   "cell_type": "markdown",
   "metadata": {},
   "source": [
    "# 目标函数"
   ]
  },
  {
   "cell_type": "code",
   "execution_count": 6,
   "metadata": {
    "collapsed": true
   },
   "outputs": [],
   "source": [
    "cost = paddle.layer.square_error_cost(input=y_predict, label=y)"
   ]
  },
  {
   "cell_type": "markdown",
   "metadata": {},
   "source": [
    "# 保存模型拓扑"
   ]
  },
  {
   "cell_type": "code",
   "execution_count": 7,
   "metadata": {
    "collapsed": true
   },
   "outputs": [],
   "source": [
    "inference_topology = paddle.topology.Topology(layers=y_predict)\n",
    "with open(\"inference_topology.pkl\", 'wb') as f:\n",
    "    inference_topology.serialize_for_inference(f)"
   ]
  },
  {
   "cell_type": "markdown",
   "metadata": {},
   "source": [
    "# 构造参数"
   ]
  },
  {
   "cell_type": "code",
   "execution_count": 42,
   "metadata": {},
   "outputs": [
    {
     "name": "stdout",
     "output_type": "stream",
     "text": [
      "[u'___fc_layer_0__.w0', u'___fc_layer_0__.wbias']\n",
      "[u'___fc_layer_0__.w0', u'___fc_layer_0__.wbias']\n"
     ]
    }
   ],
   "source": [
    "parameters = paddle.parameters.create(cost)\n",
    "print parameters.keys()"
   ]
  },
  {
   "cell_type": "markdown",
   "metadata": {},
   "source": [
    "# 优化方法"
   ]
  },
  {
   "cell_type": "code",
   "execution_count": 19,
   "metadata": {
    "collapsed": true
   },
   "outputs": [],
   "source": [
    "optimizer = paddle.optimizer.Momentum(momentum=0)"
   ]
  },
  {
   "cell_type": "code",
   "execution_count": 20,
   "metadata": {
    "collapsed": true
   },
   "outputs": [],
   "source": [
    "trainer = paddle.trainer.SGD(\n",
    "        cost=cost, parameters=parameters, update_equation=optimizer)"
   ]
  },
  {
   "cell_type": "markdown",
   "metadata": {},
   "source": [
    "# 定义回调函数"
   ]
  },
  {
   "cell_type": "code",
   "execution_count": 21,
   "metadata": {
    "collapsed": true
   },
   "outputs": [],
   "source": [
    "feeding = {'x': 0, 'y': 1}"
   ]
  },
  {
   "cell_type": "code",
   "execution_count": 22,
   "metadata": {
    "collapsed": true
   },
   "outputs": [],
   "source": [
    "    def event_handler(event):\n",
    "        if isinstance(event, paddle.event.EndIteration):\n",
    "            if event.batch_id % 100 == 0:\n",
    "                print \"Pass %d, Batch %d, Cost %f\" % (\n",
    "                    event.pass_id, event.batch_id, event.cost)\n",
    "\n",
    "        if isinstance(event, paddle.event.EndPass):\n",
    "            if event.pass_id % 10 == 0:\n",
    "                with open('params_pass_%d.tar' % event.pass_id, 'w') as f:\n",
    "                    trainer.save_parameter_to_tar(f)\n",
    "            result = trainer.test(\n",
    "                reader=paddle.batch(uci_housing.test(), batch_size=2),\n",
    "                feeding=feeding)\n",
    "            print \"Test %d, Cost %f\" % (event.pass_id, result.cost)"
   ]
  },
  {
   "cell_type": "markdown",
   "metadata": {},
   "source": [
    "# 模型训练"
   ]
  },
  {
   "cell_type": "code",
   "execution_count": 28,
   "metadata": {},
   "outputs": [
    {
     "name": "stdout",
     "output_type": "stream",
     "text": [
      "Pass 0, Batch 0, Cost 1.495800\n",
      "Pass 0, Batch 100, Cost 42.483418\n",
      "Pass 0, Batch 200, Cost 26.257704\n",
      "Test 0, Cost 25.402659\n",
      "Pass 1, Batch 0, Cost 3.716550\n",
      "Pass 1, Batch 100, Cost 2.476472\n",
      "Pass 1, Batch 200, Cost 7.149185\n",
      "Test 1, Cost 30.745138\n",
      "Pass 2, Batch 0, Cost 27.800522\n",
      "Pass 2, Batch 100, Cost 101.234329\n",
      "Pass 2, Batch 200, Cost 9.057484\n",
      "Test 2, Cost 29.210953\n",
      "Pass 3, Batch 0, Cost 14.587635\n",
      "Pass 3, Batch 100, Cost 4.292050\n",
      "Pass 3, Batch 200, Cost 10.290013\n",
      "Test 3, Cost 27.876014\n",
      "Pass 4, Batch 0, Cost 1.026340\n",
      "Pass 4, Batch 100, Cost 4.946856\n",
      "Pass 4, Batch 200, Cost 45.496811\n",
      "Test 4, Cost 24.579970\n",
      "Pass 5, Batch 0, Cost 4.527252\n",
      "Pass 5, Batch 100, Cost 41.499603\n",
      "Pass 5, Batch 200, Cost 2.898273\n",
      "Test 5, Cost 29.591355\n",
      "Pass 6, Batch 0, Cost 1.956164\n",
      "Pass 6, Batch 100, Cost 32.670002\n",
      "Pass 6, Batch 200, Cost 2.286242\n",
      "Test 6, Cost 25.374574\n",
      "Pass 7, Batch 0, Cost 10.573087\n",
      "Pass 7, Batch 100, Cost 10.262197\n",
      "Pass 7, Batch 200, Cost 6.114974\n",
      "Test 7, Cost 22.367839\n",
      "Pass 8, Batch 0, Cost 4.046337\n",
      "Pass 8, Batch 100, Cost 9.821482\n",
      "Pass 8, Batch 200, Cost 47.465664\n",
      "Test 8, Cost 26.500993\n",
      "Pass 9, Batch 0, Cost 11.137065\n",
      "Pass 9, Batch 100, Cost 32.918900\n",
      "Pass 9, Batch 200, Cost 136.032684\n",
      "Test 9, Cost 25.283095\n",
      "Pass 10, Batch 0, Cost 57.066875\n",
      "Pass 10, Batch 100, Cost 196.984497\n",
      "Pass 10, Batch 200, Cost 16.121733\n",
      "Test 10, Cost 27.746030\n",
      "Pass 11, Batch 0, Cost 0.612984\n",
      "Pass 11, Batch 100, Cost 7.282421\n",
      "Pass 11, Batch 200, Cost 2.264545\n",
      "Test 11, Cost 26.052479\n",
      "Pass 12, Batch 0, Cost 0.773454\n",
      "Pass 12, Batch 100, Cost 4.173874\n",
      "Pass 12, Batch 200, Cost 0.925547\n",
      "Test 12, Cost 29.971145\n",
      "Pass 13, Batch 0, Cost 4.657024\n",
      "Pass 13, Batch 100, Cost 7.867891\n",
      "Pass 13, Batch 200, Cost 3.924365\n",
      "Test 13, Cost 27.497600\n",
      "Pass 14, Batch 0, Cost 17.427469\n",
      "Pass 14, Batch 100, Cost 22.617138\n",
      "Pass 14, Batch 200, Cost 107.141571\n",
      "Test 14, Cost 26.696845\n",
      "Pass 15, Batch 0, Cost 37.373096\n",
      "Pass 15, Batch 100, Cost 1.998611\n",
      "Pass 15, Batch 200, Cost 27.657499\n",
      "Test 15, Cost 28.186992\n",
      "Pass 16, Batch 0, Cost 4.695993\n",
      "Pass 16, Batch 100, Cost 33.556698\n",
      "Pass 16, Batch 200, Cost 9.185183\n",
      "Test 16, Cost 30.783837\n",
      "Pass 17, Batch 0, Cost 1.082104\n",
      "Pass 17, Batch 100, Cost 5.286104\n",
      "Pass 17, Batch 200, Cost 80.156143\n",
      "Test 17, Cost 26.297936\n",
      "Pass 18, Batch 0, Cost 2.359232\n",
      "Pass 18, Batch 100, Cost 54.755978\n",
      "Pass 18, Batch 200, Cost 2.594411\n",
      "Test 18, Cost 31.366420\n",
      "Pass 19, Batch 0, Cost 1.744055\n",
      "Pass 19, Batch 100, Cost 7.931628\n",
      "Pass 19, Batch 200, Cost 72.130135\n",
      "Test 19, Cost 28.277825\n",
      "Pass 20, Batch 0, Cost 112.629860\n",
      "Pass 20, Batch 100, Cost 7.925253\n",
      "Pass 20, Batch 200, Cost 2.079534\n",
      "Test 20, Cost 26.382636\n",
      "Pass 21, Batch 0, Cost 2.095202\n",
      "Pass 21, Batch 100, Cost 63.982941\n",
      "Pass 21, Batch 200, Cost 1.893065\n",
      "Test 21, Cost 27.559876\n",
      "Pass 22, Batch 0, Cost 4.552525\n",
      "Pass 22, Batch 100, Cost 4.305838\n",
      "Pass 22, Batch 200, Cost 1.201367\n",
      "Test 22, Cost 30.177985\n",
      "Pass 23, Batch 0, Cost 17.458315\n",
      "Pass 23, Batch 100, Cost 12.189593\n",
      "Pass 23, Batch 200, Cost 28.261766\n",
      "Test 23, Cost 30.116292\n",
      "Pass 24, Batch 0, Cost 6.708186\n",
      "Pass 24, Batch 100, Cost 3.052848\n",
      "Pass 24, Batch 200, Cost 0.008119\n",
      "Test 24, Cost 33.699408\n",
      "Pass 25, Batch 0, Cost 11.159811\n",
      "Pass 25, Batch 100, Cost 3.411191\n",
      "Pass 25, Batch 200, Cost 3.281953\n",
      "Test 25, Cost 27.410759\n",
      "Pass 26, Batch 0, Cost 34.076744\n",
      "Pass 26, Batch 100, Cost 2.826054\n",
      "Pass 26, Batch 200, Cost 44.939510\n",
      "Test 26, Cost 29.447623\n",
      "Pass 27, Batch 0, Cost 22.943398\n",
      "Pass 27, Batch 100, Cost 0.887792\n",
      "Pass 27, Batch 200, Cost 12.919008\n",
      "Test 27, Cost 29.127629\n",
      "Pass 28, Batch 0, Cost 20.810089\n",
      "Pass 28, Batch 100, Cost 36.944431\n",
      "Pass 28, Batch 200, Cost 9.526936\n",
      "Test 28, Cost 35.101943\n",
      "Pass 29, Batch 0, Cost 1.047053\n",
      "Pass 29, Batch 100, Cost 201.372437\n",
      "Pass 29, Batch 200, Cost 18.480104\n",
      "Test 29, Cost 31.492422\n",
      "Pass 30, Batch 0, Cost 13.335371\n",
      "Pass 30, Batch 100, Cost 15.610479\n",
      "Pass 30, Batch 200, Cost 4.236368\n",
      "Test 30, Cost 28.617222\n",
      "Pass 31, Batch 0, Cost 57.809647\n",
      "Pass 31, Batch 100, Cost 1.896940\n",
      "Pass 31, Batch 200, Cost 9.181094\n",
      "Test 31, Cost 35.319864\n",
      "Pass 32, Batch 0, Cost 63.416977\n",
      "Pass 32, Batch 100, Cost 19.642107\n",
      "Pass 32, Batch 200, Cost 15.619622\n",
      "Test 32, Cost 28.761698\n",
      "Pass 33, Batch 0, Cost 0.470919\n",
      "Pass 33, Batch 100, Cost 28.426840\n",
      "Pass 33, Batch 200, Cost 32.504017\n",
      "Test 33, Cost 27.915682\n",
      "Pass 34, Batch 0, Cost 23.811386\n",
      "Pass 34, Batch 100, Cost 34.366253\n",
      "Pass 34, Batch 200, Cost 1.935435\n",
      "Test 34, Cost 24.333601\n",
      "Pass 35, Batch 0, Cost 3.057420\n",
      "Pass 35, Batch 100, Cost 8.358328\n",
      "Pass 35, Batch 200, Cost 3.522351\n",
      "Test 35, Cost 27.085144\n",
      "Pass 36, Batch 0, Cost 9.033376\n",
      "Pass 36, Batch 100, Cost 23.485167\n",
      "Pass 36, Batch 200, Cost 57.998360\n",
      "Test 36, Cost 30.470247\n",
      "Pass 37, Batch 0, Cost 41.784458\n",
      "Pass 37, Batch 100, Cost 11.277102\n",
      "Pass 37, Batch 200, Cost 19.150276\n",
      "Test 37, Cost 35.078334\n",
      "Pass 38, Batch 0, Cost 2.941977\n",
      "Pass 38, Batch 100, Cost 8.290304\n",
      "Pass 38, Batch 200, Cost 17.740032\n",
      "Test 38, Cost 27.260921\n",
      "Pass 39, Batch 0, Cost 2.086494\n",
      "Pass 39, Batch 100, Cost 3.248809\n",
      "Pass 39, Batch 200, Cost 10.388328\n",
      "Test 39, Cost 29.293332\n",
      "Pass 40, Batch 0, Cost 2.547263\n",
      "Pass 40, Batch 100, Cost 0.893357\n",
      "Pass 40, Batch 200, Cost 18.270914\n",
      "Test 40, Cost 31.371802\n",
      "Pass 41, Batch 0, Cost 41.421474\n",
      "Pass 41, Batch 100, Cost 25.929386\n",
      "Pass 41, Batch 200, Cost 212.997818\n",
      "Test 41, Cost 33.700292\n",
      "Pass 42, Batch 0, Cost 5.601867\n",
      "Pass 42, Batch 100, Cost 0.430659\n",
      "Pass 42, Batch 200, Cost 42.612854\n",
      "Test 42, Cost 35.444647\n",
      "Pass 43, Batch 0, Cost 116.396667\n",
      "Pass 43, Batch 100, Cost 11.247264\n",
      "Pass 43, Batch 200, Cost 3.903860\n",
      "Test 43, Cost 27.032681\n",
      "Pass 44, Batch 0, Cost 20.307432\n",
      "Pass 44, Batch 100, Cost 0.250269\n",
      "Pass 44, Batch 200, Cost 18.906479\n",
      "Test 44, Cost 28.410143\n",
      "Pass 45, Batch 0, Cost 331.531921\n",
      "Pass 45, Batch 100, Cost 3.018801\n",
      "Pass 45, Batch 200, Cost 0.838678\n",
      "Test 45, Cost 26.822743\n",
      "Pass 46, Batch 0, Cost 15.782252\n",
      "Pass 46, Batch 100, Cost 1.969330\n",
      "Pass 46, Batch 200, Cost 8.039089\n",
      "Test 46, Cost 28.685832\n",
      "Pass 47, Batch 0, Cost 0.094905\n",
      "Pass 47, Batch 100, Cost 0.701114\n",
      "Pass 47, Batch 200, Cost 4.339403\n",
      "Test 47, Cost 27.834694\n",
      "Pass 48, Batch 0, Cost 104.116714\n",
      "Pass 48, Batch 100, Cost 8.718982\n",
      "Pass 48, Batch 200, Cost 10.977910\n",
      "Test 48, Cost 30.066721\n",
      "Pass 49, Batch 0, Cost 10.577036\n",
      "Pass 49, Batch 100, Cost 1.391931\n",
      "Pass 49, Batch 200, Cost 1.119928\n",
      "Test 49, Cost 28.597302\n",
      "Pass 50, Batch 0, Cost 36.543976\n",
      "Pass 50, Batch 100, Cost 72.394760\n",
      "Pass 50, Batch 200, Cost 10.268890\n",
      "Test 50, Cost 29.119095\n",
      "Pass 51, Batch 0, Cost 18.241249\n",
      "Pass 51, Batch 100, Cost 30.148201\n",
      "Pass 51, Batch 200, Cost 6.842437\n",
      "Test 51, Cost 26.441201\n",
      "Pass 52, Batch 0, Cost 7.331116\n",
      "Pass 52, Batch 100, Cost 51.843330\n",
      "Pass 52, Batch 200, Cost 1.618222\n",
      "Test 52, Cost 33.833942\n",
      "Pass 53, Batch 0, Cost 2.229771\n",
      "Pass 53, Batch 100, Cost 12.040279\n",
      "Pass 53, Batch 200, Cost 10.557970\n",
      "Test 53, Cost 29.859279\n",
      "Pass 54, Batch 0, Cost 15.872327\n",
      "Pass 54, Batch 100, Cost 35.366032\n",
      "Pass 54, Batch 200, Cost 9.666636\n",
      "Test 54, Cost 29.659100\n",
      "Pass 55, Batch 0, Cost 8.871098\n",
      "Pass 55, Batch 100, Cost 1.180754\n",
      "Pass 55, Batch 200, Cost 13.301746\n",
      "Test 55, Cost 29.024723\n",
      "Pass 56, Batch 0, Cost 25.618637\n",
      "Pass 56, Batch 100, Cost 6.965156\n",
      "Pass 56, Batch 200, Cost 6.154099\n",
      "Test 56, Cost 33.843823\n",
      "Pass 57, Batch 0, Cost 0.105587\n",
      "Pass 57, Batch 100, Cost 1.897586\n",
      "Pass 57, Batch 200, Cost 15.870485\n",
      "Test 57, Cost 31.759735\n",
      "Pass 58, Batch 0, Cost 9.133810\n",
      "Pass 58, Batch 100, Cost 0.416494\n",
      "Pass 58, Batch 200, Cost 2.691853\n",
      "Test 58, Cost 37.392795\n",
      "Pass 59, Batch 0, Cost 6.827358\n",
      "Pass 59, Batch 100, Cost 18.770538\n",
      "Pass 59, Batch 200, Cost 13.997323\n",
      "Test 59, Cost 36.746771\n",
      "Pass 60, Batch 0, Cost 10.248226\n",
      "Pass 60, Batch 100, Cost 7.462255\n",
      "Pass 60, Batch 200, Cost 66.637566\n",
      "Test 60, Cost 35.908029\n",
      "Pass 61, Batch 0, Cost 20.911373\n",
      "Pass 61, Batch 100, Cost 2.259691\n",
      "Pass 61, Batch 200, Cost 0.385062\n",
      "Test 61, Cost 33.543676\n",
      "Pass 62, Batch 0, Cost 2.297673\n",
      "Pass 62, Batch 100, Cost 7.519008\n",
      "Pass 62, Batch 200, Cost 21.769346\n",
      "Test 62, Cost 28.458533\n",
      "Pass 63, Batch 0, Cost 1.849556\n",
      "Pass 63, Batch 100, Cost 84.101814\n",
      "Pass 63, Batch 200, Cost 26.892183\n",
      "Test 63, Cost 28.294240\n",
      "Pass 64, Batch 0, Cost 2.948222\n",
      "Pass 64, Batch 100, Cost 3.625596\n",
      "Pass 64, Batch 200, Cost 0.353741\n",
      "Test 64, Cost 36.137626\n",
      "Pass 65, Batch 0, Cost 26.013550\n",
      "Pass 65, Batch 100, Cost 0.836417\n",
      "Pass 65, Batch 200, Cost 4.702847\n",
      "Test 65, Cost 32.414192\n",
      "Pass 66, Batch 0, Cost 0.675475\n",
      "Pass 66, Batch 100, Cost 0.852617\n",
      "Pass 66, Batch 200, Cost 5.191032\n",
      "Test 66, Cost 32.473130\n",
      "Pass 67, Batch 0, Cost 4.037338\n",
      "Pass 67, Batch 100, Cost 36.335758\n",
      "Pass 67, Batch 200, Cost 0.705985\n",
      "Test 67, Cost 31.150273\n",
      "Pass 68, Batch 0, Cost 6.209357\n"
     ]
    },
    {
     "name": "stdout",
     "output_type": "stream",
     "text": [
      "Pass 68, Batch 100, Cost 16.610296\n",
      "Pass 68, Batch 200, Cost 15.630659\n",
      "Test 68, Cost 33.901514\n",
      "Pass 69, Batch 0, Cost 21.351261\n",
      "Pass 69, Batch 100, Cost 2.626736\n",
      "Pass 69, Batch 200, Cost 1.238070\n",
      "Test 69, Cost 31.455544\n",
      "Pass 70, Batch 0, Cost 13.155558\n",
      "Pass 70, Batch 100, Cost 22.029736\n",
      "Pass 70, Batch 200, Cost 27.927612\n",
      "Test 70, Cost 31.331099\n",
      "Pass 71, Batch 0, Cost 0.299671\n",
      "Pass 71, Batch 100, Cost 6.401699\n",
      "Pass 71, Batch 200, Cost 36.608990\n",
      "Test 71, Cost 27.742521\n",
      "Pass 72, Batch 0, Cost 11.845661\n",
      "Pass 72, Batch 100, Cost 5.463381\n",
      "Pass 72, Batch 200, Cost 34.234097\n",
      "Test 72, Cost 32.939042\n",
      "Pass 73, Batch 0, Cost 0.699001\n",
      "Pass 73, Batch 100, Cost 37.642380\n",
      "Pass 73, Batch 200, Cost 10.266459\n",
      "Test 73, Cost 31.769186\n",
      "Pass 74, Batch 0, Cost 20.275169\n",
      "Pass 74, Batch 100, Cost 27.244501\n",
      "Pass 74, Batch 200, Cost 49.338493\n",
      "Test 74, Cost 31.083532\n",
      "Pass 75, Batch 0, Cost 16.081484\n",
      "Pass 75, Batch 100, Cost 1.898904\n",
      "Pass 75, Batch 200, Cost 3.906583\n",
      "Test 75, Cost 30.027385\n",
      "Pass 76, Batch 0, Cost 6.358749\n",
      "Pass 76, Batch 100, Cost 7.861339\n",
      "Pass 76, Batch 200, Cost 15.063124\n",
      "Test 76, Cost 36.628798\n",
      "Pass 77, Batch 0, Cost 0.036948\n",
      "Pass 77, Batch 100, Cost 7.040156\n",
      "Pass 77, Batch 200, Cost 97.612251\n",
      "Test 77, Cost 31.610526\n",
      "Pass 78, Batch 0, Cost 72.110626\n",
      "Pass 78, Batch 100, Cost 0.476281\n",
      "Pass 78, Batch 200, Cost 26.427084\n",
      "Test 78, Cost 29.874852\n",
      "Pass 79, Batch 0, Cost 288.140686\n",
      "Pass 79, Batch 100, Cost 0.834825\n",
      "Pass 79, Batch 200, Cost 2.286306\n",
      "Test 79, Cost 35.311762\n",
      "Pass 80, Batch 0, Cost 24.107889\n",
      "Pass 80, Batch 100, Cost 13.588976\n",
      "Pass 80, Batch 200, Cost 76.508049\n",
      "Test 80, Cost 30.787758\n",
      "Pass 81, Batch 0, Cost 0.631843\n",
      "Pass 81, Batch 100, Cost 20.531586\n",
      "Pass 81, Batch 200, Cost 12.781293\n",
      "Test 81, Cost 29.437325\n",
      "Pass 82, Batch 0, Cost 40.981697\n",
      "Pass 82, Batch 100, Cost 4.446768\n",
      "Pass 82, Batch 200, Cost 0.146999\n",
      "Test 82, Cost 34.737497\n",
      "Pass 83, Batch 0, Cost 13.665206\n",
      "Pass 83, Batch 100, Cost 17.635641\n",
      "Pass 83, Batch 200, Cost 45.470219\n",
      "Test 83, Cost 32.826845\n",
      "Pass 84, Batch 0, Cost 10.872140\n",
      "Pass 84, Batch 100, Cost 13.000408\n",
      "Pass 84, Batch 200, Cost 6.470047\n",
      "Test 84, Cost 29.133867\n",
      "Pass 85, Batch 0, Cost 36.428951\n",
      "Pass 85, Batch 100, Cost 41.321304\n",
      "Pass 85, Batch 200, Cost 5.215299\n",
      "Test 85, Cost 33.582969\n",
      "Pass 86, Batch 0, Cost 1.730826\n",
      "Pass 86, Batch 100, Cost 26.579067\n",
      "Pass 86, Batch 200, Cost 8.938770\n",
      "Test 86, Cost 31.699031\n",
      "Pass 87, Batch 0, Cost 1.915909\n",
      "Pass 87, Batch 100, Cost 1.484907\n",
      "Pass 87, Batch 200, Cost 2.088101\n",
      "Test 87, Cost 41.967748\n",
      "Pass 88, Batch 0, Cost 3.220601\n",
      "Pass 88, Batch 100, Cost 2.236555\n",
      "Pass 88, Batch 200, Cost 8.208889\n",
      "Test 88, Cost 32.977505\n",
      "Pass 89, Batch 0, Cost 3.430981\n",
      "Pass 89, Batch 100, Cost 1.467199\n",
      "Pass 89, Batch 200, Cost 15.620299\n",
      "Test 89, Cost 30.686343\n",
      "Pass 90, Batch 0, Cost 6.770792\n",
      "Pass 90, Batch 100, Cost 8.239120\n",
      "Pass 90, Batch 200, Cost 5.038494\n",
      "Test 90, Cost 27.751361\n",
      "Pass 91, Batch 0, Cost 5.267684\n",
      "Pass 91, Batch 100, Cost 97.053131\n",
      "Pass 91, Batch 200, Cost 1.861215\n",
      "Test 91, Cost 30.747793\n",
      "Pass 92, Batch 0, Cost 1.908678\n",
      "Pass 92, Batch 100, Cost 12.833807\n",
      "Pass 92, Batch 200, Cost 11.866898\n",
      "Test 92, Cost 32.851202\n",
      "Pass 93, Batch 0, Cost 7.545691\n",
      "Pass 93, Batch 100, Cost 17.362720\n",
      "Pass 93, Batch 200, Cost 9.950036\n",
      "Test 93, Cost 33.383493\n",
      "Pass 94, Batch 0, Cost 2.819303\n",
      "Pass 94, Batch 100, Cost 38.877655\n",
      "Pass 94, Batch 200, Cost 14.415892\n",
      "Test 94, Cost 31.133580\n",
      "Pass 95, Batch 0, Cost 54.529312\n",
      "Pass 95, Batch 100, Cost 4.236749\n",
      "Pass 95, Batch 200, Cost 15.527111\n",
      "Test 95, Cost 34.475612\n",
      "Pass 96, Batch 0, Cost 10.501046\n",
      "Pass 96, Batch 100, Cost 10.395248\n",
      "Pass 96, Batch 200, Cost 21.458015\n",
      "Test 96, Cost 30.928861\n",
      "Pass 97, Batch 0, Cost 8.149290\n",
      "Pass 97, Batch 100, Cost 16.700256\n",
      "Pass 97, Batch 200, Cost 73.050346\n",
      "Test 97, Cost 26.085615\n",
      "Pass 98, Batch 0, Cost 2.175658\n",
      "Pass 98, Batch 100, Cost 8.490267\n",
      "Pass 98, Batch 200, Cost 3.969911\n",
      "Test 98, Cost 33.342441\n",
      "Pass 99, Batch 0, Cost 8.489762\n",
      "Pass 99, Batch 100, Cost 10.877575\n",
      "Pass 99, Batch 200, Cost 47.269005\n",
      "Test 99, Cost 29.037213\n"
     ]
    }
   ],
   "source": [
    "trainer.train(\n",
    "        reader=paddle.batch(\n",
    "            paddle.reader.shuffle(uci_housing.train(), buf_size=5000),\n",
    "            batch_size=2),\n",
    "        feeding=feeding,\n",
    "        event_handler=event_handler,\n",
    "        num_passes=100)"
   ]
  },
  {
   "cell_type": "markdown",
   "metadata": {},
   "source": [
    "# 预测"
   ]
  },
  {
   "cell_type": "code",
   "execution_count": 29,
   "metadata": {
    "collapsed": true
   },
   "outputs": [],
   "source": [
    "test_data_creator = paddle.dataset.uci_housing.test()\n",
    "test_data = []\n",
    "test_label = []"
   ]
  },
  {
   "cell_type": "code",
   "execution_count": 30,
   "metadata": {
    "collapsed": true
   },
   "outputs": [],
   "source": [
    "for item in test_data_creator():\n",
    "    test_data.append((item[0], ))\n",
    "    test_label.append(item[1])\n",
    "    if len(test_data) == 5:\n",
    "        break"
   ]
  },
  {
   "cell_type": "code",
   "execution_count": 31,
   "metadata": {
    "collapsed": true
   },
   "outputs": [],
   "source": [
    "probs = paddle.infer(output_layer=y_predict, parameters=parameters, input=test_data)"
   ]
  },
  {
   "cell_type": "code",
   "execution_count": 32,
   "metadata": {},
   "outputs": [
    {
     "name": "stdout",
     "output_type": "stream",
     "text": [
      "label=8.5, predict=10.135715\n",
      "label=5.0, predict=12.904484\n",
      "label=11.9, predict=8.694727\n",
      "label=27.9, predict=20.11639\n",
      "label=17.2, predict=12.672748\n"
     ]
    }
   ],
   "source": [
    "for i in xrange(len(probs)):\n",
    "    print \"label=\" + str(test_label[i][0]) + \", predict=\" + str(probs[i][0])"
   ]
  },
  {
   "cell_type": "markdown",
   "metadata": {},
   "source": [
    "# 练习-降低cost"
   ]
  },
  {
   "cell_type": "code",
   "execution_count": null,
   "metadata": {
    "collapsed": true
   },
   "outputs": [],
   "source": []
  }
 ],
 "metadata": {
  "kernelspec": {
   "display_name": "Python 2",
   "language": "python",
   "name": "python2"
  }
 },
 "nbformat": 4,
 "nbformat_minor": 2
}
